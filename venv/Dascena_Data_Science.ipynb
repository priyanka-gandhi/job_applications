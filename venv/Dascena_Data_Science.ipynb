{
 "cells": [
  {
   "cell_type": "markdown",
   "metadata": {
    "id": "55Q_7oEKnbnO"
   },
   "source": [
    "<img src=\"https://www.dascena.com/hubfs/Bravo%20Website/Images/Dascena_Logo.svg\" width=\"240\" height=\"240\" align=\"center\"/>\n",
    "\n",
    "# Dascena Data Science Sample\n",
    "\n",
    "This exercise will give you a small sample of one type of problem we specialize in at Dascena, prediction of clinically significant events using machine learning. This is also a way for you to show us your prefered style of: \n",
    "\n",
    "1. writing code in a way that is easy to understand and self-explainatory\n",
    "2. documentation: ie comments, descriptions of inputs and outputs within the function, etc\n",
    "3. data science: data visualizations, statistics, machine learning theory \n",
    "4. writing efficient code: modularity, parallelization\n",
    "5. communicating technical information and concepts \n",
    "6. resourcefulnes and self teaching \n",
    "\n",
    "Modify this notebook as if you were going to use it to teach an undergraduate class on machine learning. Part of our follow up interview is to have you teach us how to reproduce and understand your work in this notebook.\n",
    "\n",
    "Feel free to import other python packages, here are some basic ones to get started"
   ]
  },
  {
   "cell_type": "code",
   "execution_count": 4,
   "metadata": {
    "id": "mis3NIwLoFjh"
   },
   "outputs": [],
   "source": [
    "from google.colab import drive\n",
    "#drive.mount('/content/drive')"
   ]
  },
  {
   "cell_type": "code",
   "execution_count": 5,
   "metadata": {
    "colab": {
     "base_uri": "https://localhost:8080/"
    },
    "id": "-uN4dWllnbnQ",
    "outputId": "7358c158-f617-4a5d-f69c-70bac0811cd5"
   },
   "outputs": [
    {
     "name": "stdout",
     "output_type": "stream",
     "text": [
      "3.6.9 (default, Oct  8 2020, 12:12:24) \n",
      "[GCC 8.4.0]\n"
     ]
    }
   ],
   "source": [
    "import os, sys, time, re, random, math, json\n",
    "import numpy as np\n",
    "from datetime import datetime, timedelta\n",
    "import matplotlib.pyplot as plt\n",
    "\n",
    "%matplotlib inline\n",
    "print(sys.version)"
   ]
  },
  {
   "cell_type": "markdown",
   "metadata": {
    "id": "B_5Y_sAtnbnQ"
   },
   "source": [
    "## Load the Sample Dataset\n",
    "\n",
    "Along with this jupyter notebook you should have received one other file called `berlin_ards.json` (Please unzip if you receive a zip file). It is a json file containing the data that we will be working with for this project. Load it with the cell below"
   ]
  },
  {
   "cell_type": "code",
   "execution_count": 6,
   "metadata": {
    "id": "F3DRfmJ6nbnR"
   },
   "outputs": [],
   "source": [
    "with open('berlin_ards.json') as json_file:\n",
    "    berlin_ards = json.load(json_file)"
   ]
  },
  {
   "cell_type": "markdown",
   "metadata": {
    "id": "kdfdL_ZCnbnR"
   },
   "source": [
    "## Introduction to the Sample Dataset\n",
    "\n",
    "This sample dataset is a subset taken from a freely accessible critical care database. `berlin_ards` above is a dictionary of patient encounters. An encounter is one hospitalization. One patient can have multiple admissions to the hospital. Each admission would have a unique encounter_ID. In this dataset the times have been modified but the time intervals are real. Run the cells below to get acquainted."
   ]
  },
  {
   "cell_type": "code",
   "execution_count": 7,
   "metadata": {
    "colab": {
     "base_uri": "https://localhost:8080/"
    },
    "id": "O9nOKnXVnbnR",
    "outputId": "bcce10c7-d454-4881-b138-bdba54a2f54c"
   },
   "outputs": [
    {
     "name": "stdout",
     "output_type": "stream",
     "text": [
      "There are 8709 patient encounters in this dataset\n"
     ]
    }
   ],
   "source": [
    "keys = list(berlin_ards.keys())\n",
    "num_encs = len(keys)\n",
    "print(\"There are {} patient encounters in this dataset\".format(num_encs))"
   ]
  },
  {
   "cell_type": "code",
   "execution_count": 8,
   "metadata": {
    "colab": {
     "base_uri": "https://localhost:8080/"
    },
    "id": "J1FuwplXnbnS",
    "outputId": "d3b98ef7-310f-4796-fe0e-8ebd9d5c50ff"
   },
   "outputs": [
    {
     "name": "stdout",
     "output_type": "stream",
     "text": [
      "200021 is an example of an encounter ID\n"
     ]
    }
   ],
   "source": [
    "print(\"{} is an example of an encounter ID\".format(keys[0]))"
   ]
  },
  {
   "cell_type": "markdown",
   "metadata": {
    "id": "mlY_VaqfnbnS"
   },
   "source": [
    "plug the encounter ID into the dictionary to see information about this patient's encounter\n",
    "\n",
    "here is some basic information about this hospitalization and all the keys to the other types of data for this encounter"
   ]
  },
  {
   "cell_type": "code",
   "execution_count": 9,
   "metadata": {
    "colab": {
     "base_uri": "https://localhost:8080/"
    },
    "id": "_VAwRqbJnbnT",
    "outputId": "bf6d030b-2d40-48da-9afe-26a6c6810f43"
   },
   "outputs": [
    {
     "name": "stdout",
     "output_type": "stream",
     "text": [
      "\n",
      "{'age': 60.0, 'gender': 'M', 'weight': 82.6, 'subject_id': '61691', 'is_in_hospital_death': False, 'is_Berlin_ARDS': False, 'first_measurement_time': '2114-12-26T20:40:00', 'is_Berlin_time': '2114-12-26T21:23:00', 'last_measurement_time': '2114-12-27T22:00:00'}\n"
     ]
    },
    {
     "data": {
      "text/plain": [
       "dict_keys(['Info', 'feature_matrix_row_names', 'feature_sampling_interval_minutes', 'feature_matrix'])"
      ]
     },
     "execution_count": 9,
     "metadata": {
      "tags": []
     },
     "output_type": "execute_result"
    }
   ],
   "source": [
    "enc = berlin_ards[keys[0]]\n",
    "print('')\n",
    "print(enc['Info'])\n",
    "enc.keys()"
   ]
  },
  {
   "cell_type": "markdown",
   "metadata": {
    "id": "E_wouPH3nbnT"
   },
   "source": [
    "Most of this you will have to figure out for yourself, but lets go over some special data components\n",
    "\n",
    "First, we have given you a feature matrix of timeseries features where each row is a different vital sign or lab measurement and each column is a different timestep starting with column 0 = time zero.  \n",
    "\n",
    "As an example, here are the first 24 hours of oxygen saturation (SpO2) measurements. The first SpO2 measurement was made 60 minutes into the stay, which is why the first 2 columns are not a number"
   ]
  },
  {
   "cell_type": "code",
   "execution_count": 10,
   "metadata": {
    "id": "AaW_O2-8nbnT",
    "colab": {
     "base_uri": "https://localhost:8080/"
    },
    "outputId": "9c66238a-1df3-4f8c-bd94-4105a1d2f8bf"
   },
   "outputs": [
    {
     "name": "stdout",
     "output_type": "stream",
     "text": [
      "['SysABP', 'DiasABP', 'HR', 'Temp', 'RespRate', 'SpO2', 'Creatinine', 'WBC', 'Platelets']\n",
      "number of features 9\n",
      "minutes between timesteps 30\n",
      "SpO2\n",
      "[nan nan 99. 99. 99. 99. 99. 99. 99. 99. 99. 99. 99. 99. 99. 99. 99. 99.\n",
      " 99. 99. 99. 99. 99. 99. 99. 99. 99. 99. 99. 99. 99. 98. 98. 96. 96. 94.\n",
      " 94. 97. 97. 96. 96. 96. 96. 94. 94. 94. 94. 94.]\n",
      "(9, 51)\n"
     ]
    }
   ],
   "source": [
    "print(enc['feature_matrix_row_names'])\n",
    "period = enc['feature_sampling_interval_minutes']\n",
    "print('number of features', len(enc['feature_matrix_row_names']))\n",
    "print('minutes between timesteps', period)\n",
    "feature_index = 5\n",
    "print(enc['feature_matrix_row_names'][feature_index])\n",
    "feature_matrix = np.array(enc['feature_matrix'])\n",
    "print(feature_matrix[feature_index,:int(24*60/period)])\n",
    "print(feature_matrix.shape)"
   ]
  },
  {
   "cell_type": "markdown",
   "metadata": {
    "id": "xyMYflfHnbnU"
   },
   "source": [
    "### Sanity Check\n",
    "\n",
    "The length of stay should be within one period of the amount of time represented by the feature matrix"
   ]
  },
  {
   "cell_type": "code",
   "execution_count": 11,
   "metadata": {
    "colab": {
     "base_uri": "https://localhost:8080/"
    },
    "id": "R2KInMFfnbnU",
    "outputId": "52f99946-bd48-44c7-d572-ae4fec3b4fa1"
   },
   "outputs": [
    {
     "name": "stdout",
     "output_type": "stream",
     "text": [
      "25 hours 25.5 hours\n"
     ]
    }
   ],
   "source": [
    "start_time = datetime.strptime(enc['Info']['first_measurement_time'], '%Y-%m-%dT%H:%M:%S')\n",
    "stop_time = datetime.strptime(enc['Info']['last_measurement_time'], '%Y-%m-%dT%H:%M:%S')\n",
    "\n",
    "lenofstay_mins = (stop_time - start_time).total_seconds()/60\n",
    "print(int(lenofstay_mins/60), 'hours', feature_matrix.shape[1]*period/60, 'hours')"
   ]
  },
  {
   "cell_type": "markdown",
   "metadata": {
    "id": "h7cxI58TnbnU"
   },
   "source": [
    "# Exploring the Data\n",
    "\n",
    "For the 3 features: \n",
    "\n",
    "    a. Systolic Blood Pressure (SysABP)\n",
    "\n",
    "    b. Temperature (Temp) \n",
    "\n",
    "    c. White Blood Cell Count (WBC)\n",
    "    \n",
    "## TODOs:\n",
    "\n",
    "1. Generate figures to describe the distribution of these features: ie their variability and central tendency. Make the figures as easy to read and self-explainatory as possible as if you were going to publish them. \n",
    "\n",
    "2. Look up each these 3 features. Have you plotted a clinically plausible, ie physiologically distributed, spread of measurements that you would expect for each feature ? \n",
    "\n",
    "4. What are the units of measurment each feature likely uses ? "
   ]
  },
  {
   "cell_type": "code",
   "execution_count": 12,
   "metadata": {
    "id": "f9h0nz6gOrgW"
   },
   "outputs": [],
   "source": [
    "import pandas as pd\n",
    "import seaborn as sns\n",
    "\n",
    "\n",
    "#Storing the json contents into a dataframe\n",
    "df=pd.read_json ('berlin_ards.json')\n",
    "df = df.transpose()\n",
    "df = pd.concat([df.drop(['Info'], axis=1), df['Info'].apply(pd.Series)], axis=1)\n",
    "\n",
    "names = ['SysABP', 'DiasABP', 'HR', 'Temp', 'RespRate', 'SpO2', 'Creatinine', 'WBC', 'Platelets']\n",
    "\n",
    "\n",
    "df['SysABP'] = [i[0] for i in df['feature_matrix']]\n",
    "df['DiasABP'] = [i[1] for i in df['feature_matrix']]\n",
    "df['HR'] = [i[2] for i in df['feature_matrix']]\n",
    "df['Temp'] = [i[3] for i in df['feature_matrix']]\n",
    "df['RespRate'] = [i[4] for i in df['feature_matrix']]\n",
    "df['SpO2'] = [i[5] for i in df['feature_matrix']]\n",
    "df['Creatinine'] = [i[6] for i in df['feature_matrix']]\n",
    "df['WBC'] = [i[7] for i in df['feature_matrix']]\n",
    "df['Platelets'] = [i[8] for i in df['feature_matrix']]\n",
    "\n",
    "df = df.drop(['feature_matrix'], axis=1)\n",
    "df = df.drop(['feature_matrix_row_names'], axis=1)"
   ]
  },
  {
   "cell_type": "code",
   "execution_count": 22,
   "metadata": {
    "id": "ZF36kYP-nbnU",
    "colab": {
     "base_uri": "https://localhost:8080/",
     "height": 295.0
    },
    "outputId": "a8a4638d-1194-49e6-94de-663f0a93ee60"
   },
   "outputs": [
    {
     "data": {
      "image/png": "[encoded data removed]",
      "text/plain": [
       "<Figure size 432x288 with 1 Axes>"
      ]
     },
     "metadata": {
      "tags": [],
      "needs_background": "light"
     },
     "output_type": "display_data"
    }
   ],
   "source": [
    "#### WRITE CODE HERE #####\n",
    "\n",
    "import warnings; warnings.simplefilter('ignore')\n",
    "def boolean_indexing(v, fillval=np.nan):\n",
    "    lens = np.array([len(item) for item in v])\n",
    "    mask = lens[:,None] > np.arange(lens.max())\n",
    "    out = np.full(mask.shape,fillval)\n",
    "    out[mask] = np.concatenate(v)\n",
    "    return out\n",
    "\n",
    "\n",
    "\n",
    "#Generating a matrix\n",
    "sysabp = [np.array(i, dtype=np.float) for i in df['SysABP']]\n",
    "sysabp = boolean_indexing(sysabp)\n",
    "\n",
    "#Plotting SysABP of patients with respect to the time\n",
    "sysabp = sysabp.transpose()\n",
    "plt.boxplot(sysabp)\n",
    "plt.ylabel(\"SysABP\")\n",
    "plt.xlabel(\"Time\")\n",
    "plt.title(\"Systolic Blood Pressure\")\n",
    "plt.show()\n",
    "\n",
    "#### WRITE CODE HERE #####"
   ]
  },
  {
   "cell_type": "code",
   "execution_count": 23,
   "metadata": {
    "id": "Xl1kdAylnbnV",
    "colab": {
     "base_uri": "https://localhost:8080/",
     "height": 295.0
    },
    "outputId": "44db609a-7492-4676-d6ed-3b3bdda22966"
   },
   "outputs": [
    {
     "data": {
      "image/png": "[encoded data removed]",
      "text/plain": [
       "<Figure size 432x288 with 1 Axes>"
      ]
     },
     "metadata": {
      "tags": [],
      "needs_background": "light"
     },
     "output_type": "display_data"
    }
   ],
   "source": [
    "#### WRITE CODE HERE #####\n",
    "#Generating a matrix\n",
    "temp = [np.array(i, dtype=np.float) for i in df['Temp']]\n",
    "temp = boolean_indexing(temp)\n",
    "\n",
    "#Plotting Temperature of patients with respect to the time.\n",
    "temp = temp.transpose()\n",
    "plt.boxplot(temp)\n",
    "plt.ylabel(\"Temp\")\n",
    "plt.xlabel(\"Time\")\n",
    "plt.title(\"Temperature\")\n",
    "plt.show()\n",
    "\n",
    "#### WRITE CODE HERE #####"
   ]
  },
  {
   "cell_type": "code",
   "execution_count": 24,
   "metadata": {
    "id": "8aJlw-R3nbnV",
    "colab": {
     "base_uri": "https://localhost:8080/",
     "height": 295.0
    },
    "outputId": "15a8b2a8-da5c-42f3-eaec-0ec63172e58f"
   },
   "outputs": [
    {
     "data": {
      "image/png": "[encoded data removed]",
      "text/plain": [
       "<Figure size 432x288 with 1 Axes>"
      ]
     },
     "metadata": {
      "tags": [],
      "needs_background": "light"
     },
     "output_type": "display_data"
    }
   ],
   "source": [
    "#### WRITE CODE HERE #####\n",
    "#Generating a matrix\n",
    "wbc = [np.array(i, dtype=np.float) for i in df['WBC']]\n",
    "wbc = boolean_indexing(wbc)\n",
    "\n",
    "#Plotting White Blood Cell Count of patients with respect to the time\n",
    "wbc = wbc.transpose()\n",
    "plt.boxplot(wbc)\n",
    "plt.ylabel(\"WBC\")\n",
    "plt.xlabel(\"Time\")\n",
    "plt.title(\"White Blood Cell Count\")\n",
    "plt.show()\n",
    "\n",
    "#### WRITE CODE HERE #####"
   ]
  },
  {
   "cell_type": "markdown",
   "metadata": {
    "id": "TRG8SMlDnbnV"
   },
   "source": [
    "# Machine Learning\n",
    "\n",
    "ARDS or [Acute respiratory distress syndrome](https://www.uptodate.com/contents/acute-respiratory-distress-syndrome-clinical-features-diagnosis-and-complications-in-adults) is a difficult disease both to define and also to predict. The definition of ARDS we will be using is the Berlin Criteria (Lung imaging shows Bilateral Infiltrates and PaO2/FiO2 is < 300). We are going to have you design and train an algorithm to predict the onset of ARDS before it occurs as best you can using the limited data in this sample dataset. The target labels are provided for you for each patient encounter, see below:"
   ]
  },
  {
   "cell_type": "code",
   "execution_count": 16,
   "metadata": {
    "id": "jsiOvrkmnbnV",
    "colab": {
     "base_uri": "https://localhost:8080/"
    },
    "outputId": "4e31fde7-ff1c-4598-eeb0-cd8e71c7a23e"
   },
   "outputs": [
    {
     "name": "stdout",
     "output_type": "stream",
     "text": [
      "Did this patient develope ARDS according to the Berlin Criteria? False\n",
      "Time Berlin Criteria was evaluated 2127-03-03T17:27:00\n"
     ]
    }
   ],
   "source": [
    "encounter_index = 1\n",
    "print('Did this patient develope ARDS according to the Berlin Criteria?',\n",
    "      berlin_ards[keys[encounter_index]]['Info']['is_Berlin_ARDS'])\n",
    "print('Time Berlin Criteria was evaluated',\n",
    "      berlin_ards[keys[encounter_index]]['Info']['is_Berlin_time'])"
   ]
  },
  {
   "cell_type": "markdown",
   "metadata": {
    "id": "jEamd4uDnbnW"
   },
   "source": [
    "### Guidelines\n",
    "\n",
    "a. You can choose which machine learning algorithm and python packages to use \n",
    "\n",
    "b. You can choose which features to use. \n",
    "\n",
    "c. Only use features as inputs to the algorithm that are available at or before the time you plan to make the prediction. If ARDS occurs at 48 hours into the hospitalization and your machine learning algorithm makes a prediction at 24 hours into the hospitalization, make sure you are not using information from the dataset that becomes available only after 24 hours. \n",
    "\n",
    "\n",
    "## TODOs:\n",
    "\n",
    "1. Set aside a portion of the encounters to use as the hold out test set.\n",
    "\n",
    "2. Train and validate the algorithm on the remaining dataset.\n",
    "\n",
    "2. Plot the area under the [Receiver operating characteristic](https://en.wikipedia.org/wiki/Receiver_operating_characteristic) aka AUC on the hold out test set. \n",
    "\n",
    "3. Generate a figure to help us understand how the algorithm makes it's decisions. ie address model interpretability. "
   ]
  },
  {
   "cell_type": "code",
   "execution_count": 17,
   "metadata": {
    "id": "qJdZqxqyIGI0",
    "colab": {
     "base_uri": "https://localhost:8080/"
    },
    "outputId": "e7b5b0f6-ee9d-4f6b-c629-d1d86f4b31fe"
   },
   "outputs": [
    {
     "name": "stdout",
     "output_type": "stream",
     "text": [
      "       feature_sampling_interval_minutes  ...                                          Platelets\n",
      "200143                                30  ...  [None, None, None, None, None, 358.0, 358.0, 3...\n",
      "200525                                30  ...  [None, None, None, None, 202.0, 202.0, 202.0, ...\n",
      "200636                                30  ...  [None, 235.0, 235.0, 235.0, 235.0, 235.0, 235....\n",
      "200647                                30  ...  [None, None, None, None, None, None, None, Non...\n",
      "200952                                30  ...  [None, None, None, None, None, None, None, Non...\n",
      "...                                  ...  ...                                                ...\n",
      "227590                                30  ...  [None, None, None, None, None, None, None, Non...\n",
      "239460                                30  ...  [None, None, None, None, None, None, None, Non...\n",
      "272836                                30  ...  [None, None, None, 456.0, 456.0, 456.0, 456.0,...\n",
      "279670                                30  ...  [None, None, None, None, None, None, None, Non...\n",
      "276230                                30  ...  [None, None, 326.0, 326.0, 326.0, 326.0, 326.0...\n",
      "\n",
      "[439 rows x 19 columns]\n",
      "Index(['feature_sampling_interval_minutes', 'age', 'gender', 'weight',\n",
      "       'subject_id', 'is_in_hospital_death', 'is_Berlin_ARDS',\n",
      "       'first_measurement_time', 'is_Berlin_time', 'last_measurement_time',\n",
      "       'SysABP', 'DiasABP', 'HR', 'Temp', 'RespRate', 'SpO2', 'Creatinine',\n",
      "       'WBC', 'Platelets'],\n",
      "      dtype='object')\n",
      "       feature_sampling_interval_minutes   age  ...        WBC   Platelets\n",
      "200021                                30  60.0  ...   6.100000  156.000000\n",
      "200024                                30  80.0  ...  12.400000  127.000000\n",
      "200028                                30  64.0  ...  10.518519   71.555556\n",
      "200053                                30  40.0  ...   7.015194  173.936396\n",
      "200063                                30  37.0  ...   7.405435  171.612319\n",
      "...                                  ...   ...  ...        ...         ...\n",
      "227590                                30  37.0  ...        NaN         NaN\n",
      "239460                                30  42.0  ...  27.500000  321.000000\n",
      "272836                                30  32.0  ...   9.800000  456.000000\n",
      "279670                                30  65.0  ...        NaN         NaN\n",
      "276230                                30  51.0  ...        NaN  326.000000\n",
      "\n",
      "[8709 rows x 19 columns]\n"
     ]
    }
   ],
   "source": [
    "def calculate_mean(values):\n",
    "  res = [[i for i in rows if i] for rows in values]\n",
    "  mean_values=[]\n",
    "  for i in res:\n",
    "    try:\n",
    "      mean_values.append(np.mean(i))\n",
    "    except IndexError:\n",
    "      mean_values.append(None)\n",
    "  return mean_values\n",
    "\n",
    "#creating a new dataset with patients diagnosed with ARDS\n",
    "df_new = df.loc[df['is_Berlin_ARDS'] == True]\n",
    "#removing those records from original dataset\n",
    "df1 = df[df.is_Berlin_ARDS == False]\n",
    "\n",
    "print(df_new)\n",
    "start_time = [datetime.strptime(i, '%Y-%m-%dT%H:%M:%S') for i in df_new['first_measurement_time']]\n",
    "eval_time = [datetime.strptime(i, '%Y-%m-%dT%H:%M:%S') for i in df_new['is_Berlin_time']]\n",
    "\n",
    "#Considering the values only till the patient is diagnosed with ARDS\n",
    "duration = [int(((i - j).total_seconds()/60)/30) for i, j in zip(eval_time,start_time)]\n",
    "\n",
    "print(df_new.columns)\n",
    "sysABP, diasabp, hr, Temp, resprate, sp, creatinine, WBC, platelets = ([] for i in range(9))\n",
    "for i in range(len(df_new)):\n",
    "    sysABP.append(list(df_new['SysABP'])[i][:duration[i]])\n",
    "    diasabp.append(list(df_new['DiasABP'])[i][:duration[i]])\n",
    "    hr.append(list(df_new['HR'])[i][:duration[i]])\n",
    "    Temp.append(list(df_new['Temp'])[i][:duration[i]])\n",
    "    resprate.append(list(df_new['RespRate'])[i][:duration[i]])\n",
    "    sp.append(list(df_new['SpO2'])[i][:duration[i]])\n",
    "    creatinine.append(list(df_new['Creatinine'])[i][:duration[i]])\n",
    "    WBC.append(list(df_new['WBC'])[i][:duration[i]])\n",
    "    platelets.append(list(df_new['Platelets'])[i][:duration[i]])\n",
    "\n",
    "import warnings; warnings.simplefilter('ignore')\n",
    "\n",
    "\n",
    "df_new['SysABP'] =  calculate_mean(sysABP)\n",
    "df_new['DiasABP'] = calculate_mean(diasabp)\n",
    "df_new['HR'] = calculate_mean(hr)\n",
    "df_new['Temp'] = calculate_mean(Temp)\n",
    "df_new['RespRate'] =  calculate_mean(resprate)\n",
    "df_new['SpO2'] =  calculate_mean(sp)\n",
    "df_new['Creatinine'] = calculate_mean(creatinine)\n",
    "df_new['WBC'] = calculate_mean(WBC)\n",
    "df_new['Platelets'] = calculate_mean(platelets)\n",
    "\n",
    "df1['SysABP'] =  calculate_mean(list(df1['SysABP']))\n",
    "df1['DiasABP'] = calculate_mean(list(df1['DiasABP']))\n",
    "df1['HR'] = calculate_mean(list(df1['HR']))\n",
    "df1['Temp'] = calculate_mean(list(df1['Temp']))\n",
    "df1['RespRate'] =  calculate_mean(list(df1['RespRate']))\n",
    "df1['SpO2'] =  calculate_mean(list(df1['SpO2']))\n",
    "df1['Creatinine'] = calculate_mean(list(df1['Creatinine']))\n",
    "df1['WBC'] = calculate_mean(list(df1['WBC']))\n",
    "df1['Platelets'] = calculate_mean(list(df1['Platelets']))\n",
    "\n",
    "df1 = pd.concat([df1,df_new])\n",
    "print(df1)"
   ]
  },
  {
   "cell_type": "code",
   "execution_count": 18,
   "metadata": {
    "id": "st0hlihfnbnW",
    "colab": {
     "base_uri": "https://localhost:8080/"
    },
    "outputId": "06aecdfa-5ad6-41d1-b215-0342cff4692b"
   },
   "outputs": [
    {
     "name": "stdout",
     "output_type": "stream",
     "text": [
      "Index(['age', 'weight', 'SysABP', 'DiasABP', 'HR', 'Temp', 'RespRate', 'SpO2',\n",
      "       'Creatinine', 'WBC', 'Platelets', 'gender'],\n",
      "      dtype='object')\n",
      "         age  weight      SysABP  ...        WBC   Platelets  gender\n",
      "200021  60.0    82.6  112.280000  ...   6.100000  156.000000       1\n",
      "200024  80.0    82.6  107.000000  ...  12.400000  127.000000       0\n",
      "200028  64.0    84.4  117.382353  ...  10.518519   71.555556       1\n",
      "200053  40.0   121.8  152.147887  ...   7.015194  173.936396       1\n",
      "200063  37.0   146.7  116.754579  ...   7.405435  171.612319       1\n",
      "...      ...     ...         ...  ...        ...         ...     ...\n",
      "227590  37.0   109.0  122.833333  ...  10.687097  233.000000       1\n",
      "239460  42.0   108.0  130.181818  ...  27.500000  321.000000       1\n",
      "272836  32.0    88.5  116.125000  ...   9.800000  456.000000       1\n",
      "279670  65.0    74.3  125.777778  ...   9.800000  456.000000       1\n",
      "276230  51.0    74.3  125.777778  ...   9.800000  326.000000       1\n",
      "\n",
      "[8709 rows x 12 columns]\n"
     ]
    }
   ],
   "source": [
    "#### WRITE CODE HERE #####\n",
    "\n",
    "from sklearn.preprocessing import LabelEncoder\n",
    "\n",
    "\n",
    "le = LabelEncoder()\n",
    "dummy_df= df1[['gender','is_in_hospital_death','is_Berlin_ARDS']]\n",
    "dummy_df = dummy_df.apply(le.fit_transform)\n",
    "\n",
    "df1 = df1.drop(['gender','is_in_hospital_death','is_Berlin_ARDS'], axis=1)\n",
    "df1 = pd.concat([df1, dummy_df], axis=1, sort=False)\n",
    "\n",
    "y= df1['is_Berlin_ARDS']\n",
    "X = df1.drop(['is_in_hospital_death','feature_sampling_interval_minutes','subject_id','is_Berlin_ARDS','first_measurement_time','is_Berlin_time','last_measurement_time'], axis=1)\n",
    "\n",
    "\n",
    "print(X.columns)\n",
    "\n",
    "X = X.fillna(method='ffill')\n",
    "print(X)\n",
    "\n",
    "#### WRITE CODE HERE #####"
   ]
  },
  {
   "cell_type": "code",
   "execution_count": 19,
   "metadata": {
    "id": "mEQWQ0G13idZ",
    "colab": {
     "base_uri": "https://localhost:8080/"
    },
    "outputId": "0fb415ff-a5e6-4fc1-9000-823a1e44c9fc"
   },
   "outputs": [
    {
     "name": "stdout",
     "output_type": "stream",
     "text": [
      "Feature Ranking: [8 7 1 3 1 2 1 1 6 4 5 9]\n"
     ]
    }
   ],
   "source": [
    "#### WRITE CODE HERE #####\n",
    "\n",
    "#Selecting relevant features\n",
    "\n",
    "from sklearn.feature_selection import SelectKBest\n",
    "from sklearn.feature_selection import chi2\n",
    "from sklearn.ensemble import RandomForestClassifier\n",
    "\n",
    "'''\n",
    "test = SelectKBest(score_func=chi2, k=4)\n",
    "fit = test.fit(X, y)\n",
    "np.set_printoptions(precision=4)\n",
    "print(fit.scores_)\n",
    "features = fit.transform(X)\n",
    "print(features)\n",
    "'''\n",
    "\n",
    "from sklearn.feature_selection import RFE\n",
    "\n",
    "model = RandomForestClassifier()\n",
    "rfe = RFE(model, 4)\n",
    "fit = rfe.fit(X, y)\n",
    "#the least ranked columns were dropped from dataframe X (the columns were dropped through the previous block code)\n",
    "print(\"Feature Ranking: %s\" % (fit.ranking_))\n",
    "\n",
    "\n",
    "\n",
    "#### WRITE CODE HERE #####"
   ]
  },
  {
   "cell_type": "code",
   "execution_count": 20,
   "metadata": {
    "id": "B-F4wrXxnbnW",
    "colab": {
     "base_uri": "https://localhost:8080/"
    },
    "outputId": "3d6dd3f5-8d65-4886-8541-5f478f91d4d7"
   },
   "outputs": [
    {
     "name": "stdout",
     "output_type": "stream",
     "text": [
      "Accuracy using Random Forest is  0.9522497704315886\n",
      "              precision    recall  f1-score   support\n",
      "\n",
      "           0       0.95      1.00      0.98      2068\n",
      "           1       0.80      0.07      0.13       110\n",
      "\n",
      "    accuracy                           0.95      2178\n",
      "   macro avg       0.88      0.54      0.55      2178\n",
      "weighted avg       0.95      0.95      0.93      2178\n",
      "\n"
     ]
    }
   ],
   "source": [
    "#### WRITE CODE HERE #####\n",
    "from sklearn.model_selection import train_test_split\n",
    "from sklearn.ensemble import RandomForestClassifier\n",
    "from sklearn.metrics import accuracy_score, classification_report,confusion_matrix\n",
    "\n",
    "\n",
    "# Split our data\n",
    "train, test, train_labels, test_labels = train_test_split(X,y, test_size=0.25,random_state=50, stratify=y)\n",
    "\n",
    "\n",
    "#Using Random Forest Classifier\n",
    "model = RandomForestClassifier()\n",
    "model = model.fit(train, train_labels)\n",
    "preds = model.predict(test)\n",
    "print(\"Accuracy using Random Forest is \" ,accuracy_score(test_labels, preds))\n",
    "print(classification_report(test_labels, preds))\n",
    "\n",
    "#### WRITE CODE HERE #####\n"
   ]
  },
  {
   "cell_type": "code",
   "execution_count": 21,
   "metadata": {
    "id": "E4ncXnGmnbnW",
    "colab": {
     "base_uri": "https://localhost:8080/",
     "height": 312.0
    },
    "outputId": "60774545-bf0b-4f63-8644-2da3cf754638"
   },
   "outputs": [
    {
     "name": "stdout",
     "output_type": "stream",
     "text": [
      "AUC: 0.82\n"
     ]
    },
    {
     "data": {
      "image/png": "[encoded data removed]",
      "text/plain": [
       "<Figure size 432x288 with 1 Axes>"
      ]
     },
     "metadata": {
      "tags": [],
      "needs_background": "light"
     },
     "output_type": "display_data"
    }
   ],
   "source": [
    "#### WRITE CODE HERE #####\n",
    "from sklearn.metrics import roc_curve\n",
    "from sklearn.metrics import roc_auc_score\n",
    "\n",
    "def plot_roc_curve(fpr, tpr):\n",
    "    plt.plot(fpr, tpr, color='orange', label='ROC')\n",
    "    plt.plot([0, 1], [0, 1], color='darkblue', linestyle='--')\n",
    "    plt.xlabel('False Positive Rate')\n",
    "    plt.ylabel('True Positive Rate')\n",
    "    plt.title('Receiver Operating Characteristic (ROC) Curve')\n",
    "    plt.legend()\n",
    "    plt.show()\n",
    "\n",
    "probs = model.predict_proba(test)\n",
    "probs = probs[:, 1]\n",
    "\n",
    "auc = roc_auc_score(test_labels, probs)\n",
    "print('AUC: %.2f' % auc)\n",
    "\n",
    "fpr, tpr, thresholds = roc_curve(test_labels, probs)\n",
    "plot_roc_curve(fpr, tpr)\n",
    "\n",
    "\n",
    "\n",
    "\n",
    "#### WRITE CODE HERE #####"
   ]
  },
  {
   "cell_type": "markdown",
   "metadata": {
    "id": "NUOILYnYnbnX"
   },
   "source": [
    "# Open Ended Creative Section\n",
    "\n",
    "Teach us how to do a portion of a project you worked on recently and really enjoyed. It doesn't have to be medically or supervised learning related. It just has to be in the realm of data science. \n",
    "\n",
    "You can use the space below to display or generate visuals, write pseudocode, do math in $Late^X$ or take us through some demo code"
   ]
  },
  {
   "cell_type": "markdown",
   "metadata": {
    "id": "idGAgjeR9pyd"
   },
   "source": [
    "\n",
    "\n",
    "\n",
    "**PFA file showing a recent work done in collaboration with Merck & Co.**  \n",
    "\n",
    "\n",
    "\n",
    "**Title : Applying Machine Learning Models to Identify Chronic Cough Patients using EHR Data** \n",
    "\n"
   ]
  },
  {
   "cell_type": "markdown",
   "metadata": {
    "id": "6DLatt0o-jNB"
   },
   "source": [
    "\n",
    "\n",
    "**ABSTRACT**\n",
    "\n",
    "**Background** Chronic cough (CC) affects approximately 10% of adults. Chronic cough can be caused by asthma, gastroesophageal reflux disease and so on. Since there is no ICD code for chronic cough in the EHR, it brings challenges to identify the chronic cough cases. Therefore, it is urgent to develop computational methods to identify chronic cough cases using the EHR data and to develop treatments for chronic cough.\n",
    "\n",
    "**Method** The goal of this paper is to conduct a systematic study on developing various machine learning models, including both deep and traditional ones, for predicting chronic cough patients. We evaluate those different approaches to real-world EHR data containing patients’ medical records from a large academic healthcare system from October 2005 and September 2015. The patient features we build the machine learning models upon including structured data - medication and diagnosis, and unstructured data - clinical notes.\n",
    "\n",
    "**Results** Our analysis showed that the prediction performance in terms of sensitivity could be improved from around 0.86 using medication and diagnosis, to 0.95 through combining medication and diagnosis with the symptoms extracted from the clinical notes. Through the chart review validation on a subset, the best-performed model -BERT can gain a specificity of 0.73. Moreover, we also demonstrate that the attention mechanism of deep learning models can be used to extract important features that drive the prediction decisions.\n",
    "\n",
    "**Conclusions** Deep learning models can predict the chronic cough and gain high sensitivity when both structured and unstructured data in the EHR are utilized. The specificity gained by the models can be improved if more validated patient data are involved in training.\n",
    "\n"
   ]
  }
 ],
 "metadata": {
  "kernelspec": {
   "display_name": "Python 3",
   "language": "python",
   "name": "python3"
  },
  "language_info": {
   "codemirror_mode": {
    "name": "ipython",
    "version": 3
   },
   "file_extension": ".py",
   "mimetype": "text/x-python",
   "name": "python",
   "nbconvert_exporter": "python",
   "pygments_lexer": "ipython3",
   "version": "3.8.3"
  },
  "colab": {
   "name": "Dascena_Data_Science.ipynb",
   "provenance": [],
   "collapsed_sections": [],
   "toc_visible": true
  }
 },
 "nbformat": 4,
 "nbformat_minor": 0
}
